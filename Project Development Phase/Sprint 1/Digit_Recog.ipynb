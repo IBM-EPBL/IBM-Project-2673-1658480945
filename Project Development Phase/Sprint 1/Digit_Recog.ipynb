{
  "cells": [
    {
      "cell_type": "markdown",
      "id": "f37f8a25",
      "metadata": {
        "id": "f37f8a25"
      },
      "source": [
        "## Importing Required Libraries"
      ]
    },
    {
      "cell_type": "code",
      "execution_count": 1,
      "id": "5293f503",
      "metadata": {
        "id": "5293f503"
      },
      "outputs": [],
      "source": [
        "import numpy as np\n",
        "from numpy import array\n",
        "import matplotlib.pyplot as plt\n",
        "import tensorflow as tf\n",
        "import pandas as pd\n",
        "from keras.datasets import mnist"
      ]
    },
    {
      "cell_type": "markdown",
      "id": "8a37b3cb",
      "metadata": {
        "id": "8a37b3cb"
      },
      "source": [
        "## Loading Data "
      ]
    },
    {
      "cell_type": "code",
      "execution_count": 2,
      "id": "dd5730e8",
      "metadata": {
        "colab": {
          "base_uri": "https://localhost:8080/"
        },
        "id": "dd5730e8",
        "outputId": "e3af3a4a-3959-4536-a6c3-5e70f72a54d8"
      },
      "outputs": [
        {
          "output_type": "stream",
          "name": "stdout",
          "text": [
            "Downloading data from https://storage.googleapis.com/tensorflow/tf-keras-datasets/mnist.npz\n",
            "11490434/11490434 [==============================] - 0s 0us/step\n",
            "Training Images: 60000\n",
            "Testing Images: 10000\n",
            "Shape: (28, 28)\n"
          ]
        }
      ],
      "source": [
        "(X_train, y_train), (X_test, y_test) = mnist.load_data()\n",
        "print(\"Training Images:\", len(X_train))\n",
        "print(\"Testing Images:\", len(X_test))\n",
        "print(\"Shape:\", X_train[0].shape)"
      ]
    },
    {
      "cell_type": "markdown",
      "id": "b72e8b17",
      "metadata": {
        "id": "b72e8b17"
      },
      "source": [
        "## Data Preprocessing"
      ]
    },
    {
      "cell_type": "code",
      "execution_count": 3,
      "id": "a816e5a6",
      "metadata": {
        "colab": {
          "base_uri": "https://localhost:8080/",
          "height": 282
        },
        "id": "a816e5a6",
        "outputId": "1cc2c31d-012c-4ded-f456-6d32cc406e39"
      },
      "outputs": [
        {
          "output_type": "execute_result",
          "data": {
            "text/plain": [
              "<matplotlib.image.AxesImage at 0x7fd28bd79c90>"
            ]
          },
          "metadata": {},
          "execution_count": 3
        },
        {
          "output_type": "display_data",
          "data": {
            "text/plain": [
              "<Figure size 432x288 with 1 Axes>"
            ],
            "image/png": "[encoded data removed]"
          },
          "metadata": {
            "needs_background": "light"
          }
        }
      ],
      "source": [
        "import random\n",
        "import matplotlib.pyplot as plt\n",
        "random_image = random.choice(X_train)\n",
        "plt.imshow(random_image, cmap=\"gray\")"
      ]
    },
    {
      "cell_type": "code",
      "execution_count": 4,
      "id": "1a69892b",
      "metadata": {
        "id": "1a69892b"
      },
      "outputs": [],
      "source": [
        "X_train = X_train.reshape(X_train.shape[0], 28, 28, 1)\n",
        "X_test = X_test.reshape(X_test.shape[0], 28, 28, 1)\n",
        "X_train.shape\n",
        "\n",
        "X_train = X_train / 255.\n",
        "X_test = X_test / 255.\n",
        "\n",
        "\n",
        "X_train = X_train.astype(np.float32)\n",
        "X_test = X_test.astype(np.float32)"
      ]
    },
    {
      "cell_type": "code",
      "execution_count": 4,
      "id": "2e49900c",
      "metadata": {
        "id": "2e49900c"
      },
      "outputs": [],
      "source": []
    }
  ],
  "metadata": {
    "kernelspec": {
      "display_name": "Python 3.7.8 64-bit",
      "language": "python",
      "name": "python3"
    },
    "language_info": {
      "codemirror_mode": {
        "name": "ipython",
        "version": 3
      },
      "file_extension": ".py",
      "mimetype": "text/x-python",
      "name": "python",
      "nbconvert_exporter": "python",
      "pygments_lexer": "ipython3",
      "version": "3.7.8"
    },
    "vscode": {
      "interpreter": {
        "hash": "0a54084e6b208ee8d1ce3989ffc20924477a5f55f5a43e22e699a6741623861e"
      }
    },
    "colab": {
      "provenance": [],
      "collapsed_sections": []
    }
  },
  "nbformat": 4,
  "nbformat_minor": 5
}